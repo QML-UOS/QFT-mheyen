{
 "cells": [
  {
   "cell_type": "code",
   "execution_count": null,
   "metadata": {},
   "outputs": [],
   "source": [
    "from qiskit import QuantumCircuit, ClassicalRegister, QuantumRegister\n",
    "from qiskit import available_backends, execute, register, get_backend\n",
    "from qiskit.tools.visualization import circuit_drawer, plot_histogram, plot_state\n",
    "from qiskit.tools.qi.qi import state_fidelity\n",
    "from qiskit import Aer\n",
    "import math\n",
    "\n",
    "backend = Aer.get_backend('unitary_simulator')\n",
    "\n",
    "backend = Aer.get_backend('qasm_simulator')\n",
    "job = execute(circuit, backend, shots=1000)\n",
    "# job.result().get_counts(circuit)\n",
    "plot_histogram(job.result().get_counts(circuit))\n",
    "job.result().get_counts(circuit)\n",
    "n = 6\n",
    "qr = QuantumRegister(n)\n",
    "# Create a Classical Register with 3 bits\n",
    "cr = ClassicalRegister(n)\n",
    "# Create a Quantum Circuit acting on the qr and cr register\n",
    "circuit = QuantumCircuit(qr, cr)\n",
    "\n",
    "circuit.x(qr[2])\n",
    "\n",
    "r = n-1\n",
    "while r > 0:\n",
    "    c = r - 1\n",
    "    circuit.h(qr[r])\n",
    "    while c >= 0:\n",
    "        m = 2**(r-c+1)\n",
    "        circuit.cu1(math.pi*2/m, qr[r], qr[c])\n",
    "        c = c - 1\n",
    "    r = r - 1\n",
    "circuit.h(qr[0])\n",
    "\n",
    "# measure gate from qr to cr\n",
    "circuit.measure(qr, cr)\n",
    "\n",
    "circuit_drawer(circuit)"
   ]
  }
 ],
 "metadata": {
  "kernelspec": {
   "display_name": "Python 3",
   "language": "python",
   "name": "python3"
  },
  "language_info": {
   "codemirror_mode": {
    "name": "ipython",
    "version": 3
   },
   "file_extension": ".py",
   "mimetype": "text/x-python",
   "name": "python",
   "nbconvert_exporter": "python",
   "pygments_lexer": "ipython3",
   "version": "3.6.4"
  }
 },
 "nbformat": 4,
 "nbformat_minor": 2
}
